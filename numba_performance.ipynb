{
 "cells": [
  {
   "cell_type": "code",
   "execution_count": 1,
   "id": "91a5df52",
   "metadata": {},
   "outputs": [],
   "source": [
    "import itertools\n",
    "import sys\n",
    "import time\n",
    "\n",
    "import MDAnalysis as mda\n",
    "import numpy as np\n",
    "from numba import njit"
   ]
  },
  {
   "cell_type": "code",
   "execution_count": 12,
   "id": "c65cca8a",
   "metadata": {},
   "outputs": [],
   "source": [
    "len_seg = 10\n",
    "\n",
    "@njit(fastmath=True)\n",
    "def cal_gc_ij(R_diff_3d, dR_cross_3d, _i1, _i2, _j1, _j2):\n",
    "\n",
    "    _gc_ij = 0.0\n",
    "    for i in range(_i1, _i2):\n",
    "        for j in range(_j1, _j2):\n",
    "            _gc_ij += np.dot(R_diff_3d[i, j, :] / np.linalg.norm(R_diff_3d[i, j, :]) ** 3, dR_cross_3d[i, j, :])\n",
    "    _gc_ij = _gc_ij / (4 * np.pi)\n",
    "    return _gc_ij, _i1, _i2, _j1, _j2\n",
    "@njit\n",
    "def main_calculation(raw_positions):\n",
    "    ave_positions = 0.5 * (raw_positions[:-1, :] + raw_positions[1:, :])\n",
    "    bond_vectors = - (raw_positions[:-1, :] - raw_positions[1:, :])\n",
    "    N = len(ave_positions)\n",
    "    nAtoms = len(raw_positions)\n",
    "\n",
    "    pair_array = np.asarray(list(itertools.product(ave_positions, ave_positions)))\n",
    "    R_diff = pair_array[:, 0, :] - pair_array[:, 1, :]\n",
    "    R_diff_3d = R_diff.reshape(N, N, 3)\n",
    "\n",
    "    # cross product term\n",
    "    pair_array = np.asarray(list(itertools.product(bond_vectors, bond_vectors)))\n",
    "    dR_cross = np.cross(pair_array[:, 0, :], pair_array[:, 1, :])\n",
    "    dR_cross_3d = dR_cross.reshape(N, N, 3)\n",
    "\n",
    "    pair_array = np.asarray(list(itertools.product(raw_positions, raw_positions)))\n",
    "    Distance_diff = pair_array[:, 0, :] - pair_array[:, 1, :]\n",
    "    Distance_pair = np.linalg.norm(Distance_diff, axis=1).reshape(nAtoms, nAtoms)\n",
    "\n",
    "    final_G = 0\n",
    "    for (i1, i2) in [(i1, i2) for i1 in range(N - len_seg + 1) for i2 in range(i1 + len_seg, N + 1)]:\n",
    "        for (j1, j2) in [(j1, j2) for j1 in range(N - len_seg + 1) for j2 in range(j1 + len_seg, N + 1)]:\n",
    "            if Distance_pair[i1, i2] < 9.0 and ((j1 < i1 and j2 < i1) or (j1 > i2 and j2 > i2)):\n",
    "                res = cal_gc_ij(R_diff_3d, dR_cross_3d, i1, i2, j1, j2)\n",
    "                if final_G < np.abs(res[0]):\n",
    "                    final_G, IDX_i1, IDX_i2, IDX_j1, IDX_j2 = np.abs(res[0]), res[1], res[2], res[3], res[4]\n",
    "\n",
    "    return final_G"
   ]
  },
  {
   "cell_type": "code",
   "execution_count": 13,
   "id": "50f4a574",
   "metadata": {},
   "outputs": [],
   "source": [
    "u = mda.Universe('pdb_set/1ubq.pdb', 'pdb_set/1ubq.pdb')\n",
    "ca_atoms = u.select_atoms(\"name CA\")\n",
    "resnames = ca_atoms.resnames\n",
    "resids = ca_atoms.resids\n",
    "positions = ca_atoms.positions"
   ]
  },
  {
   "cell_type": "code",
   "execution_count": 14,
   "id": "dbddb41d",
   "metadata": {},
   "outputs": [
    {
     "ename": "TypingError",
     "evalue": "Failed in nopython mode pipeline (step: nopython frontend)\n\u001b[1m\u001b[1mUnknown attribute 'product' of type Module(<module 'itertools' (built-in)>)\n\u001b[1m\nFile \"<ipython-input-12-bd9784dd302d>\", line 19:\u001b[0m\n\u001b[1mdef main_calculation(raw_positions):\n    <source elided>\n\n\u001b[1m    pair_array = np.asarray(list(itertools.product(ave_positions, ave_positions)))\n\u001b[0m    \u001b[1m^\u001b[0m\u001b[0m\n\u001b[0m\n\u001b[0m\u001b[1mDuring: typing of get attribute at <ipython-input-12-bd9784dd302d> (19)\u001b[0m\n\u001b[1m\nFile \"<ipython-input-12-bd9784dd302d>\", line 19:\u001b[0m\n\u001b[1mdef main_calculation(raw_positions):\n    <source elided>\n\n\u001b[1m    pair_array = np.asarray(list(itertools.product(ave_positions, ave_positions)))\n\u001b[0m    \u001b[1m^\u001b[0m\u001b[0m\n",
     "output_type": "error",
     "traceback": [
      "\u001b[0;31m---------------------------------------------------------------------------\u001b[0m",
      "\u001b[0;31mTypingError\u001b[0m                               Traceback (most recent call last)",
      "\u001b[0;32m<timed eval>\u001b[0m in \u001b[0;36m<module>\u001b[0;34m\u001b[0m\n",
      "\u001b[0;32m~/anaconda3/lib/python3.8/site-packages/numba/core/dispatcher.py\u001b[0m in \u001b[0;36m_compile_for_args\u001b[0;34m(self, *args, **kws)\u001b[0m\n\u001b[1;32m    418\u001b[0m                 \u001b[0me\u001b[0m\u001b[0;34m.\u001b[0m\u001b[0mpatch_message\u001b[0m\u001b[0;34m(\u001b[0m\u001b[0mmsg\u001b[0m\u001b[0;34m)\u001b[0m\u001b[0;34m\u001b[0m\u001b[0;34m\u001b[0m\u001b[0m\n\u001b[1;32m    419\u001b[0m \u001b[0;34m\u001b[0m\u001b[0m\n\u001b[0;32m--> 420\u001b[0;31m             \u001b[0merror_rewrite\u001b[0m\u001b[0;34m(\u001b[0m\u001b[0me\u001b[0m\u001b[0;34m,\u001b[0m \u001b[0;34m'typing'\u001b[0m\u001b[0;34m)\u001b[0m\u001b[0;34m\u001b[0m\u001b[0;34m\u001b[0m\u001b[0m\n\u001b[0m\u001b[1;32m    421\u001b[0m         \u001b[0;32mexcept\u001b[0m \u001b[0merrors\u001b[0m\u001b[0;34m.\u001b[0m\u001b[0mUnsupportedError\u001b[0m \u001b[0;32mas\u001b[0m \u001b[0me\u001b[0m\u001b[0;34m:\u001b[0m\u001b[0;34m\u001b[0m\u001b[0;34m\u001b[0m\u001b[0m\n\u001b[1;32m    422\u001b[0m             \u001b[0;31m# Something unsupported is present in the user code, add help info\u001b[0m\u001b[0;34m\u001b[0m\u001b[0;34m\u001b[0m\u001b[0;34m\u001b[0m\u001b[0m\n",
      "\u001b[0;32m~/anaconda3/lib/python3.8/site-packages/numba/core/dispatcher.py\u001b[0m in \u001b[0;36merror_rewrite\u001b[0;34m(e, issue_type)\u001b[0m\n\u001b[1;32m    359\u001b[0m                 \u001b[0;32mraise\u001b[0m \u001b[0me\u001b[0m\u001b[0;34m\u001b[0m\u001b[0;34m\u001b[0m\u001b[0m\n\u001b[1;32m    360\u001b[0m             \u001b[0;32melse\u001b[0m\u001b[0;34m:\u001b[0m\u001b[0;34m\u001b[0m\u001b[0;34m\u001b[0m\u001b[0m\n\u001b[0;32m--> 361\u001b[0;31m                 \u001b[0;32mraise\u001b[0m \u001b[0me\u001b[0m\u001b[0;34m.\u001b[0m\u001b[0mwith_traceback\u001b[0m\u001b[0;34m(\u001b[0m\u001b[0;32mNone\u001b[0m\u001b[0;34m)\u001b[0m\u001b[0;34m\u001b[0m\u001b[0;34m\u001b[0m\u001b[0m\n\u001b[0m\u001b[1;32m    362\u001b[0m \u001b[0;34m\u001b[0m\u001b[0m\n\u001b[1;32m    363\u001b[0m         \u001b[0margtypes\u001b[0m \u001b[0;34m=\u001b[0m \u001b[0;34m[\u001b[0m\u001b[0;34m]\u001b[0m\u001b[0;34m\u001b[0m\u001b[0;34m\u001b[0m\u001b[0m\n",
      "\u001b[0;31mTypingError\u001b[0m: Failed in nopython mode pipeline (step: nopython frontend)\n\u001b[1m\u001b[1mUnknown attribute 'product' of type Module(<module 'itertools' (built-in)>)\n\u001b[1m\nFile \"<ipython-input-12-bd9784dd302d>\", line 19:\u001b[0m\n\u001b[1mdef main_calculation(raw_positions):\n    <source elided>\n\n\u001b[1m    pair_array = np.asarray(list(itertools.product(ave_positions, ave_positions)))\n\u001b[0m    \u001b[1m^\u001b[0m\u001b[0m\n\u001b[0m\n\u001b[0m\u001b[1mDuring: typing of get attribute at <ipython-input-12-bd9784dd302d> (19)\u001b[0m\n\u001b[1m\nFile \"<ipython-input-12-bd9784dd302d>\", line 19:\u001b[0m\n\u001b[1mdef main_calculation(raw_positions):\n    <source elided>\n\n\u001b[1m    pair_array = np.asarray(list(itertools.product(ave_positions, ave_positions)))\n\u001b[0m    \u001b[1m^\u001b[0m\u001b[0m\n"
     ]
    }
   ],
   "source": [
    "%time main_calculation(positions)"
   ]
  },
  {
   "cell_type": "code",
   "execution_count": null,
   "id": "e960a522",
   "metadata": {},
   "outputs": [],
   "source": []
  }
 ],
 "metadata": {
  "kernelspec": {
   "display_name": "Python 3",
   "language": "python",
   "name": "python3"
  },
  "language_info": {
   "codemirror_mode": {
    "name": "ipython",
    "version": 3
   },
   "file_extension": ".py",
   "mimetype": "text/x-python",
   "name": "python",
   "nbconvert_exporter": "python",
   "pygments_lexer": "ipython3",
   "version": "3.8.8"
  }
 },
 "nbformat": 4,
 "nbformat_minor": 5
}
